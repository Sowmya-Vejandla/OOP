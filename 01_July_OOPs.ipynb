{
 "cells": [
  {
   "cell_type": "raw",
   "id": "ee022feb",
   "metadata": {},
   "source": [
    "1. The primary goal of Object Orientated Programming is to design and organize a code in a way that reflects the real-world entities and their interactions. OOPs aims to make code more modular, reusable, and easier to understand and maintain. OOP is widely used in software development to create scalable and maintainable code, and it aligns well with modelling real-world systems and relationships between entities.\n",
    "\n",
    "The primary goals of OOP include:\n",
    "(i) Polymorphism\n",
    "(ii) Encapsulation\n",
    "(iii) Inheritance\n",
    "(iv) Abstraction"
   ]
  },
  {
   "cell_type": "raw",
   "id": "aff6b31a",
   "metadata": {},
   "source": [
    "2. In Python, an object is a fundamental concept that represents a real-world entity or data structure. Everything in Python is an object, and every object has a type i.e; class that defines its behavior and attributes. Objects can be instances of built-in classes or user-defined classes."
   ]
  },
  {
   "cell_type": "raw",
   "id": "91e241c0",
   "metadata": {},
   "source": [
    "3. In Python, a class is a blueprint for creating objects. Objects are instances of classes, and classes define the attributes and methods that the objects will have. Using classes allows you to model real-world entities and their interactions in your code, and it is a fundamental concept in object-oriented programming (OOP)."
   ]
  },
  {
   "cell_type": "raw",
   "id": "b0fda16d",
   "metadata": {},
   "source": [
    "4. In a class, attributes and methods are the building blocks that define the characteristics and behaviors of the objects created from that class.\n",
    "\n",
    " Attributes are variables that store data. They represent the characteristics or properties of objects created from the class.\n",
    " \n",
    "  Methods are functions that are associated with an object and define its behavior. They operate on the attributes of the object.\n",
    " "
   ]
  },
  {
   "cell_type": "raw",
   "id": "5a86a924",
   "metadata": {},
   "source": [
    "5. Class variables and instance variables are two types of attributes that are associated in classes.\n",
    "\n",
    "Class variables are shared by all the instances of class. They are defined outside of any method in the class and are typically placed at the top of the class definition.\n",
    "\n",
    "Instance variables are unique to each instance of a class. They are defined within methods, usually within the special method called __init__"
   ]
  },
  {
   "cell_type": "raw",
   "id": "9f316228",
   "metadata": {},
   "source": [
    "6. self parameter in class method serves as a reference to the instance of the class. self provides a way for a method to refer to the instance on which it is called. This allows the method to access and modify the instance's attributes.\n",
    "Without self, the method would not know which instance it is operating on, leading to potential confusion or errors and it is also allows you to differentiate between the instance variable and a local variable within the method."
   ]
  },
  {
   "cell_type": "code",
   "execution_count": 3,
   "id": "4b00ea8b",
   "metadata": {},
   "outputs": [],
   "source": [
    "class Book:\n",
    "    def __init__(self,title,author,publication_year,isbn,total_copies):\n",
    "        self.title=title\n",
    "        self.author=author\n",
    "        self.publication_year=publication_year\n",
    "        self.isbn=isbn\n",
    "        self.total_copies=total_copies\n",
    "        self.available_copies=total_copies\n",
    "        \n",
    "    def check_out(self):\n",
    "        if self.available_copies>0:\n",
    "            self.available_copies-=1\n",
    "            print(f\"Book {self.title} checked out succesfully\")\n",
    "        else:\n",
    "            print(\"No copies are available\")\n",
    "            \n",
    "    def return_book(self):\n",
    "        if self.available_copies<self.total_copies:\n",
    "            self.available_copies+=1\n",
    "            print(f\"Book {self.title} returned successfully\")\n",
    "        else:\n",
    "            print(\"All copies are available already, no need to return\")\n",
    "            \n",
    "    def display_book_info(self):\n",
    "        print(\"Book info: \")\n",
    "        print(f\"Title: {self.title}\")\n",
    "        print(f\"Author: {self.author}\")\n",
    "        print(f\"Publication year: {self.publication_year}\")\n",
    "        print(f\"Isbn: {self.isbn}\")\n",
    "        print(f\"Available copies: {self.available_copies}\")\n",
    "        print(f\"Total copies: {self.total_copies}\")\n",
    "        "
   ]
  },
  {
   "cell_type": "code",
   "execution_count": 4,
   "id": "0948a2b2",
   "metadata": {},
   "outputs": [],
   "source": [
    "book=Book(\"HP\",'Taylor',1997,1221334324,7)"
   ]
  },
  {
   "cell_type": "code",
   "execution_count": 5,
   "id": "1bdce28a",
   "metadata": {},
   "outputs": [
    {
     "name": "stdout",
     "output_type": "stream",
     "text": [
      "Book info: \n",
      "Title: HP\n",
      "Author: Taylor\n",
      "Publication year: 1997\n",
      "Isbn: 1221334324\n",
      "Available copies: 7\n",
      "Total copies: 7\n",
      "Book HP checked out succesfully\n",
      "Book HP returned successfully\n",
      "Book HP checked out succesfully\n",
      "Book info: \n",
      "Title: HP\n",
      "Author: Taylor\n",
      "Publication year: 1997\n",
      "Isbn: 1221334324\n",
      "Available copies: 6\n",
      "Total copies: 7\n"
     ]
    }
   ],
   "source": [
    "book.display_book_info()\n",
    "book.check_out()\n",
    "book.return_book()\n",
    "book.check_out()\n",
    "book.display_book_info()"
   ]
  },
  {
   "cell_type": "code",
   "execution_count": 9,
   "id": "b41b415d",
   "metadata": {},
   "outputs": [],
   "source": [
    "class Ticket:\n",
    "    def __init__(self,ticket_id,event_name,event_date,venue,seat_number,price):\n",
    "        self.ticket_id=ticket_id\n",
    "        self.event_name=event_name\n",
    "        self.event_date=event_date\n",
    "        self.venue=venue\n",
    "        self.seat_number=seat_number\n",
    "        self.price=price\n",
    "        self.is_reserved=False\n",
    "        \n",
    "    def reserve_ticket(self):\n",
    "        if not self.is_reserved:\n",
    "            self.is_reserved=True\n",
    "            print(f\"Ticket {self.ticket_id} for {self.event_name} is now reserved\")\n",
    "        else:\n",
    "            print(\"Ticket is already reserved\")\n",
    "            \n",
    "    def cancel_reservation(self):\n",
    "        if self.is_reserved:\n",
    "            self.is_reserved=False\n",
    "            print(f\"Ticket {self.ticket_id} Reservation has been cancelled\")\n",
    "        else:\n",
    "            print(\"Ticket is not reserved\")\n",
    "            \n",
    "    def display_ticket_info(self):\n",
    "        print(\"Ticket Information:\")\n",
    "        print(f\"Ticket ID: {self.ticket_id}\")\n",
    "        print(f\"Event Name: {self.event_name}\")\n",
    "        print(f\"Event Date: {self.event_date}\")\n",
    "        print(f\"Venue: {self.venue}\")\n",
    "        print(f\"Seat Number: {self.seat_number}\")\n",
    "        print(f\"Price: {self.price}\")\n",
    "        print(f\"Reservation Status: {'Reserved' if self.is_reserved else 'Not Reserved'}\")\n",
    "        "
   ]
  },
  {
   "cell_type": "code",
   "execution_count": 10,
   "id": "6502b8ec",
   "metadata": {},
   "outputs": [],
   "source": [
    "ticket=Ticket(1234565,\"Plants Exhibition\",11-8-2023,\"Banglore\",'A105',100)"
   ]
  },
  {
   "cell_type": "code",
   "execution_count": 11,
   "id": "8a22a435",
   "metadata": {},
   "outputs": [
    {
     "name": "stdout",
     "output_type": "stream",
     "text": [
      "Ticket Information:\n",
      "Ticket ID: 1234565\n",
      "Event Name: Plants Exhibition\n",
      "Event Date: -2020\n",
      "Venue: Banglore\n",
      "Seat Number: A105\n",
      "Price: 100\n",
      "Reservation Status: Not Reserved\n",
      "Ticket 1234565 for Plants Exhibition is now reserved\n",
      "Ticket Information:\n",
      "Ticket ID: 1234565\n",
      "Event Name: Plants Exhibition\n",
      "Event Date: -2020\n",
      "Venue: Banglore\n",
      "Seat Number: A105\n",
      "Price: 100\n",
      "Reservation Status: Reserved\n",
      "Ticket 1234565 Reservation has been cancelled\n",
      "Ticket Information:\n",
      "Ticket ID: 1234565\n",
      "Event Name: Plants Exhibition\n",
      "Event Date: -2020\n",
      "Venue: Banglore\n",
      "Seat Number: A105\n",
      "Price: 100\n",
      "Reservation Status: Not Reserved\n"
     ]
    }
   ],
   "source": [
    "ticket.display_ticket_info()\n",
    "ticket.reserve_ticket()\n",
    "ticket.display_ticket_info()\n",
    "ticket.cancel_reservation()\n",
    "ticket.display_ticket_info()"
   ]
  },
  {
   "cell_type": "code",
   "execution_count": 13,
   "id": "f408da18",
   "metadata": {},
   "outputs": [],
   "source": [
    "class ShoppingCart:\n",
    "    def __init__(self):\n",
    "        self.items = []\n",
    "\n",
    "    def add_item(self, item):\n",
    "        self.items.append(item)\n",
    "        print(f\"Item '{item}' added to the shopping cart.\")\n",
    "\n",
    "    def remove_item(self, item):\n",
    "        if item in self.items:\n",
    "            self.items.remove(item)\n",
    "            print(f\"Item '{item}' removed from the shopping cart.\")\n",
    "        else:\n",
    "            print(f\"Item '{item}' is not in the shopping cart.\")\n",
    "\n",
    "    def view_cart(self):\n",
    "        if not self.items:\n",
    "            print(\"Shopping cart is empty.\")\n",
    "        else:\n",
    "            print(\"Items in the shopping cart:\")\n",
    "            for item in self.items:\n",
    "                print(f\"- {item}\")\n",
    "\n",
    "    def clear_cart(self):\n",
    "        self.items = []\n",
    "        print(\"Shopping cart cleared.\")\n"
   ]
  },
  {
   "cell_type": "code",
   "execution_count": 14,
   "id": "60a8dfd6",
   "metadata": {},
   "outputs": [],
   "source": [
    "cart = ShoppingCart()"
   ]
  },
  {
   "cell_type": "code",
   "execution_count": 15,
   "id": "4a95692e",
   "metadata": {},
   "outputs": [
    {
     "name": "stdout",
     "output_type": "stream",
     "text": [
      "Item 'A' added to the shopping cart.\n",
      "Item 'B' added to the shopping cart.\n",
      "Items in the shopping cart:\n",
      "- A\n",
      "- B\n",
      "Item 'B' removed from the shopping cart.\n",
      "Items in the shopping cart:\n",
      "- A\n",
      "Shopping cart cleared.\n",
      "Shopping cart is empty.\n"
     ]
    }
   ],
   "source": [
    "cart.add_item(\"A\")\n",
    "cart.add_item(\"B\")\n",
    "cart.view_cart()\n",
    "\n",
    "cart.remove_item(\"B\")\n",
    "cart.view_cart()\n",
    "\n",
    "cart.clear_cart()\n",
    "cart.view_cart()\n"
   ]
  },
  {
   "cell_type": "code",
   "execution_count": 16,
   "id": "a09d2073",
   "metadata": {},
   "outputs": [],
   "source": [
    "class Student:\n",
    "    def __init__(self, name, age, grade, student_id):\n",
    "        self.name = name\n",
    "        self.age = age\n",
    "        self.grade = grade\n",
    "        self.student_id = student_id\n",
    "        self.attendance = {}\n",
    "\n",
    "    def update_attendance(self, date, status):\n",
    "        self.attendance[date] = status\n",
    "        print(f\"Attendance for {self.name} on {date}: {status}\")\n",
    "\n",
    "    def get_attendance(self):\n",
    "        return self.attendance\n",
    "\n",
    "    def get_average_attendance(self):\n",
    "        if not self.attendance:\n",
    "            return 0.0 \n",
    "\n",
    "        total_days = len(self.attendance)\n",
    "        present_days = list(self.attendance.values()).count('present')\n",
    "        average_percentage = (present_days / total_days) * 100\n",
    "        return round(average_percentage, 2)"
   ]
  },
  {
   "cell_type": "code",
   "execution_count": 17,
   "id": "c0e60bed",
   "metadata": {},
   "outputs": [],
   "source": [
    "student=Student(\"Weston\",14,\"X\",\"13A01\")"
   ]
  },
  {
   "cell_type": "code",
   "execution_count": 19,
   "id": "c5362763",
   "metadata": {},
   "outputs": [
    {
     "name": "stdout",
     "output_type": "stream",
     "text": [
      "Attendance for Weston on 2023-08-01: present\n",
      "Attendance for Weston on 2023-08-02: absent\n",
      "Attendance for Weston on 2023-08-03: present\n",
      "Weston's Attendance Record: {'2023-08-01': 'present', '2023-08-02': 'absent', '2023-08-03': 'present'}\n",
      "Weston's Average Attendance: 66.67%\n"
     ]
    }
   ],
   "source": [
    "student.update_attendance(date=\"2023-08-01\", status=\"present\")\n",
    "student.update_attendance(date=\"2023-08-02\", status=\"absent\")\n",
    "student.update_attendance(date=\"2023-08-03\", status=\"present\")\n",
    "\n",
    "attendance_record = student.get_attendance()\n",
    "print(f\"{student.name}'s Attendance Record: {attendance_record}\")\n",
    "\n",
    "average_attendance = student.get_average_attendance()\n",
    "print(f\"{student.name}'s Average Attendance: {average_attendance}%\")\n",
    "   "
   ]
  }
 ],
 "metadata": {
  "kernelspec": {
   "display_name": "Python 3 (ipykernel)",
   "language": "python",
   "name": "python3"
  },
  "language_info": {
   "codemirror_mode": {
    "name": "ipython",
    "version": 3
   },
   "file_extension": ".py",
   "mimetype": "text/x-python",
   "name": "python",
   "nbconvert_exporter": "python",
   "pygments_lexer": "ipython3",
   "version": "3.11.3"
  }
 },
 "nbformat": 4,
 "nbformat_minor": 5
}
